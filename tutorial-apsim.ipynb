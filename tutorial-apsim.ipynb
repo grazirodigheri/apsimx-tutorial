{
 "cells": [
  {
   "cell_type": "markdown",
   "metadata": {},
   "source": [
    "<h1 style=\"color:#336699; text-align: center\" >Tutorial APSIM Next Generation</h1>\n",
    "<hr style=\"border:2px solid #0077b9;\">\n",
    "\n",
    "<br/>\n",
    "\n",
    "<div style=\"text-align: center;font-size: 90%;\">\n",
    "    Grazieli Rodigheri<sup><a href=\"https://orcid.org/0000-0002-9916-1167\"><i class=\"fab fa-lg fa-orcid\" style=\"color: #a6ce39\"></i></a></sup>\n",
    "    <br/><br/>\n",
    "    Divisão de Observação da Terra e Geoinformática, Instituto Nacional de Pesquisas Espaciais (INPE)\n",
    "    <br/><br/>\n",
    "    Contact: <a href=\"mailto:grazielirodigheri@gmail.com\">grazielirodigheri@gmail.com</a>\n",
    "    </div>\n",
    "\n",
    "<br/>\n",
    "\n"
   ]
  },
  {
   "cell_type": "markdown",
   "metadata": {},
   "source": [
    "<hr>\n",
    "\n",
    "# 1. Configure APSIM"
   ]
  },
  {
   "cell_type": "markdown",
   "metadata": {},
   "source": [
    "### 1.1 Install apsimx and other required libraries"
   ]
  },
  {
   "cell_type": "code",
   "execution_count": 2,
   "metadata": {
    "vscode": {
     "languageId": "r"
    }
   },
   "outputs": [],
   "source": [
    "# Install and load the needed libraries\n",
    "\n",
    "if (!require(\"apsimx\")) {\n",
    "  devtools::install_github(\"femiguez/apsimx\")\n",
    "  library(\"apsimx\")\n",
    "}\n",
    "if (!require(\"dplyr\")) {\n",
    "  install.packages(\"dplyr\", repos = \"http://cran.irsn.fr\")\n",
    "  library(\"dplyr\")\n",
    "}\n",
    "if (!require(\"ggplot2\")) {\n",
    "  install.packages(\"ggplot2\", repos = \"http://cran.irsn.fr\")\n",
    "  library(\"ggplot2\")\n",
    "}"
   ]
  },
  {
   "cell_type": "markdown",
   "metadata": {},
   "source": [
    "### List all APSIM simulation examples"
   ]
  },
  {
   "cell_type": "code",
   "execution_count": 2,
   "metadata": {
    "vscode": {
     "languageId": "r"
    }
   },
   "outputs": [
    {
     "name": "stderr",
     "output_type": "stream",
     "text": [
      "Warning message in auto_detect_apsimx():\n",
      "\"Searching the Windows registry for APSIM-X\"\n"
     ]
    },
    {
     "name": "stdout",
     "output_type": "stream",
     "text": [
      " [1] \"AgPasture.apsimx\"             \"Agroforestry\"                \n",
      " [3] \"Barley.apsimx\"                \"Canola.apsimx\"               \n",
      " [5] \"CanolaGrazing.apsimx\"         \"Chickpea.apsimx\"             \n",
      " [7] \"Chicory.apsimx\"               \"CLEM\"                        \n",
      " [9] \"ControlledEnvironment.apsimx\" \"CsvWeather.apsimx\"           \n",
      "[11] \"Eucalyptus.apsimx\"            \"EucalyptusRotation.apsimx\"   \n",
      "[13] \"Factorial.apsimx\"             \"FodderBeet.apsimx\"           \n",
      "[15] \"Grapevine.apsimx\"             \"Graph.apsimx\"                \n",
      "[17] \"Maize.apsimx\"                 \"ManagerExamples\"             \n",
      "[19] \"Mungbean.apsimx\"              \"Oats.apsimx\"                 \n",
      "[21] \"OilPalm.apsimx\"               \"Optimisation\"                \n",
      "[23] \"Peanut.apsimx\"                \"Pinus.apsimx\"                \n",
      "[25] \"PlantainForage.apsimx\"        \"Potato.apsimx\"               \n",
      "[27] \"RedClover.apsimx\"             \"Rotation.apsimx\"             \n",
      "[29] \"SCRUM.apsimx\"                 \"Sensitivity\"                 \n",
      "[31] \"SimpleGrazing.apsimx\"         \"Slurp.apsimx\"                \n",
      "[33] \"Sorghum.apsimx\"               \"Soybean.apsimx\"              \n",
      "[35] \"Stock.apsimx\"                 \"Sugarcane.apsimx\"            \n",
      "[37] \"SWIM.apsimx\"                  \"Tutorials\"                   \n",
      "[39] \"WeatherFiles\"                 \"Wheat.apsimx\"                \n",
      "[41] \"WhiteClover.apsimx\"          \n"
     ]
    }
   ],
   "source": [
    "# Get apsim examples folder\n",
    "ex_dir <- auto_detect_apsimx_examples()\n",
    "print(list.files(ex_dir))"
   ]
  },
  {
   "cell_type": "markdown",
   "metadata": {},
   "source": [
    "### Let's copy one of the simulations and work on it"
   ]
  },
  {
   "cell_type": "markdown",
   "metadata": {},
   "source": [
    "First, we need to set the name of the simulation to be copied and the new name after renamed"
   ]
  },
  {
   "cell_type": "code",
   "execution_count": 3,
   "metadata": {
    "vscode": {
     "languageId": "r"
    }
   },
   "outputs": [],
   "source": [
    "SIM_NAME <- \"Soybean.apsimx\""
   ]
  },
  {
   "cell_type": "markdown",
   "metadata": {},
   "source": [
    "\n",
    "\n",
    "Then, copy simulation example to current folder"
   ]
  },
  {
   "cell_type": "code",
   "execution_count": 4,
   "metadata": {
    "vscode": {
     "languageId": "r"
    }
   },
   "outputs": [
    {
     "data": {
      "text/html": [
       "FALSE"
      ],
      "text/latex": [
       "FALSE"
      ],
      "text/markdown": [
       "FALSE"
      ],
      "text/plain": [
       "[1] FALSE"
      ]
     },
     "metadata": {},
     "output_type": "display_data"
    }
   ],
   "source": [
    "file.copy(\n",
    "    paste0(ex_dir, \"/\", SIM_NAME), \n",
    "    paste0(\"./\")\n",
    ")"
   ]
  },
  {
   "cell_type": "markdown",
   "metadata": {},
   "source": [
    "<hr>\n",
    "\n",
    "# Inspect Simulation Nodes\n",
    "\n",
    "Available \"node\" values: \n",
    "- \"Clock\"\n",
    "- \"Weather\"\n",
    "- \"Soil\"\n",
    "- \"SurfaceOrganicMatter\"\n",
    "- \"MicroClimate\"\n",
    "- \"Crop\"\n",
    "- \"Manager\"\n",
    "- \"Report\"\n",
    "- \"Other\"\n",
    "\n",
    "Available \"soil.child\" values:\n",
    "- \"Metadata\"\n",
    "- \"Water\"\n",
    "- \"InitialWater\"\n",
    "- \"Chemical\"\n",
    "- \"Physical\"\n",
    "- \"Analysis\"\n",
    "- \"SoilWater\"\n",
    "- \"InitialN\"\n",
    "- \"CERESSoilTemperature\"\n",
    "- \"Sample\"\n",
    "- \"Nutrient\"\n",
    "- \"Organic\""
   ]
  },
  {
   "cell_type": "markdown",
   "metadata": {},
   "source": [
    "We can inspect any node. Let's see some examples:"
   ]
  },
  {
   "cell_type": "markdown",
   "metadata": {},
   "source": [
    "### Inspect Crop"
   ]
  },
  {
   "cell_type": "code",
   "execution_count": 5,
   "metadata": {
    "vscode": {
     "languageId": "r"
    }
   },
   "outputs": [
    {
     "name": "stdout",
     "output_type": "stream",
     "text": [
      "\n",
      "\n",
      "|parm         |value |\n",
      "|:------------|:-----|\n",
      "|StartDate    |3-nov |\n",
      "|EndDate      |5-nov |\n",
      "|MinESW       |100   |\n",
      "|MinRain      |25    |\n",
      "|RainDays     |7     |\n",
      "|CultivarName |Davis |\n",
      "|SowingDepth  |50    |\n",
      "|RowSpacing   |750   |\n",
      "|Population   |38    |\n"
     ]
    }
   ],
   "source": [
    "inspect_apsimx(\n",
    "    file = SIM_NAME, \n",
    "    node = \"Crop\"\n",
    ")"
   ]
  },
  {
   "cell_type": "markdown",
   "metadata": {},
   "source": [
    "### Inspect Clock"
   ]
  },
  {
   "cell_type": "code",
   "execution_count": 6,
   "metadata": {
    "vscode": {
     "languageId": "r"
    }
   },
   "outputs": [
    {
     "name": "stdout",
     "output_type": "stream",
     "text": [
      "Start: 2015-04-01T00:00:00  \n",
      "End: 2016-04-01T00:00:00  \n"
     ]
    }
   ],
   "source": [
    "inspect_apsimx(\n",
    "    file = SIM_NAME, \n",
    "    node = \"Clock\"\n",
    ")"
   ]
  },
  {
   "cell_type": "markdown",
   "metadata": {},
   "source": [
    "### Inspect Weather"
   ]
  },
  {
   "cell_type": "code",
   "execution_count": 7,
   "metadata": {
    "vscode": {
     "languageId": "r"
    }
   },
   "outputs": [
    {
     "name": "stdout",
     "output_type": "stream",
     "text": [
      "Met file: %root%\\Examples\\WeatherFiles\\Dalby.met \n"
     ]
    }
   ],
   "source": [
    "inspect_apsimx(\n",
    "    file = SIM_NAME, \n",
    "    node = \"Weather\"\n",
    ")"
   ]
  },
  {
   "cell_type": "markdown",
   "metadata": {},
   "source": [
    "### Inspect Soil"
   ]
  },
  {
   "cell_type": "code",
   "execution_count": 8,
   "metadata": {
    "vscode": {
     "languageId": "r"
    }
   },
   "outputs": [
    {
     "name": "stdout",
     "output_type": "stream",
     "text": [
      "Soil Type:  Clay \n",
      "Latitude:  -27.58184 \n",
      "Longitude:  151.3202 \n",
      "Soil children: Physical SoilWater Organic Chemical InitialWater InitialN Temperature Nutrient \n",
      "\n",
      "\n",
      "|parm              |value                                                  |\n",
      "|:-----------------|:------------------------------------------------------|\n",
      "|$type             |Models.Soils.Soil, Models                              |\n",
      "|RecordNumber      |0                                                      |\n",
      "|ASCOrder          |Vertosol                                               |\n",
      "|ASCSubOrder       |Black                                                  |\n",
      "|SoilType          |Clay                                                   |\n",
      "|LocalName         |NA                                                     |\n",
      "|Site              |Norwin                                                 |\n",
      "|NearestTown       |Norwin                                                 |\n",
      "|Region            |Darling Downs and Granite Belt                         |\n",
      "|State             |Queensland                                             |\n",
      "|Country           |Australia                                              |\n",
      "|NaturalVegetation |Qld. Bluegrass, possible Qld. Blue gum                 |\n",
      "|ApsoilNumber      |900                                                    |\n",
      "|Latitude          |-27.581836                                             |\n",
      "|Longitude         |151.320206                                             |\n",
      "|LocationAccuracy  |+/- 20m                                                |\n",
      "|YearOfSampling    |NA                                                     |\n",
      "|DataSource        |CSIRO Sustainable Ecosystems, Toowoomba; Character ... |\n",
      "|Comments          |OC, CLL for all crops estimated-based on Bongeen M ... |\n"
     ]
    }
   ],
   "source": [
    "inspect_apsimx(\n",
    "    file = SIM_NAME, \n",
    "    node = \"Soil\"\n",
    ")"
   ]
  },
  {
   "cell_type": "markdown",
   "metadata": {},
   "source": [
    "NOTE: This manager node contains 3 parameters (SowingFertiliser, Harvesting and SowingRule). We can explore some of them."
   ]
  },
  {
   "cell_type": "code",
   "execution_count": 9,
   "metadata": {
    "vscode": {
     "languageId": "r"
    }
   },
   "outputs": [
    {
     "name": "stdout",
     "output_type": "stream",
     "text": [
      "Management Scripts:  SowingFertiliser Harvesting SowingRule \n",
      "\n",
      "Name:  SowingRule \n",
      "\n",
      "\n",
      "|parm         |value |\n",
      "|:------------|:-----|\n",
      "|StartDate    |3-nov |\n",
      "|EndDate      |5-nov |\n",
      "|MinESW       |100   |\n",
      "|MinRain      |25    |\n",
      "|RainDays     |7     |\n",
      "|CultivarName |Davis |\n",
      "|SowingDepth  |50    |\n",
      "|RowSpacing   |750   |\n",
      "|Population   |38    |\n",
      "\n"
     ]
    }
   ],
   "source": [
    "# Manager SowingRule\n",
    "inspect_apsimx(\n",
    "    file = SIM_NAME, \n",
    "    node = \"Manager\",\n",
    "    parm = list(\"SowingRule\", NA)\n",
    ")\n"
   ]
  },
  {
   "cell_type": "markdown",
   "metadata": {},
   "source": [
    "<hr>\n",
    "\n",
    "# Obtain meteorological data from NASA POWER"
   ]
  },
  {
   "cell_type": "markdown",
   "metadata": {},
   "source": [
    "If you don't have **nasapower** library installed, use the command **install.packages(\"nasapower\")**"
   ]
  },
  {
   "cell_type": "code",
   "execution_count": 10,
   "metadata": {
    "vscode": {
     "languageId": "r"
    }
   },
   "outputs": [],
   "source": [
    "library(\"nasapower\")"
   ]
  },
  {
   "cell_type": "markdown",
   "metadata": {},
   "source": [
    "Define latitude and longitude of the field, as well as the start and end dates:"
   ]
  },
  {
   "cell_type": "code",
   "execution_count": 11,
   "metadata": {
    "vscode": {
     "languageId": "r"
    }
   },
   "outputs": [],
   "source": [
    "lonlat <- c(-52.9, -28.23)\n",
    "\n",
    "dates <- c(\"2015-01-01\", \"2018-04-10\")"
   ]
  },
  {
   "cell_type": "markdown",
   "metadata": {},
   "source": [
    "<div class=\"alert\">\n",
    "  <span class=\"closebtn\" onclick=\"this.parentElement.style.display='none';\">&#9888;</span>\n",
    "  IMPORTANT: The function <b>get_power_apsim_met</b> below will download the .met file to the current folder. The filename of this file can be set in the parameter <b>filename</b>. \n",
    "</div>"
   ]
  },
  {
   "cell_type": "code",
   "execution_count": 12,
   "metadata": {
    "vscode": {
     "languageId": "r"
    }
   },
   "outputs": [],
   "source": [
    "power_data <- get_power_apsim_met(\n",
    "    lonlat = lonlat, \n",
    "    dates = dates,\n",
    "    filename = \"power.met\"\n",
    ")"
   ]
  },
  {
   "cell_type": "markdown",
   "metadata": {},
   "source": [
    "View met data"
   ]
  },
  {
   "cell_type": "code",
   "execution_count": 13,
   "metadata": {
    "vscode": {
     "languageId": "r"
    }
   },
   "outputs": [
    {
     "data": {
      "text/html": [
       "<table class=\"dataframe\">\n",
       "<caption>A met: 6 × 8</caption>\n",
       "<thead>\n",
       "\t<tr><th></th><th scope=col>year</th><th scope=col>day</th><th scope=col>radn</th><th scope=col>maxt</th><th scope=col>mint</th><th scope=col>rain</th><th scope=col>rh</th><th scope=col>windspeed</th></tr>\n",
       "\t<tr><th></th><th scope=col>&lt;dbl&gt;</th><th scope=col>&lt;int&gt;</th><th scope=col>&lt;dbl&gt;</th><th scope=col>&lt;dbl&gt;</th><th scope=col>&lt;dbl&gt;</th><th scope=col>&lt;dbl&gt;</th><th scope=col>&lt;dbl&gt;</th><th scope=col>&lt;dbl&gt;</th></tr>\n",
       "</thead>\n",
       "<tbody>\n",
       "\t<tr><th scope=row>1</th><td>2015</td><td>1</td><td> 5.85</td><td>26.61</td><td>22.24</td><td>109.49</td><td>93.50</td><td>4.23</td></tr>\n",
       "\t<tr><th scope=row>2</th><td>2015</td><td>2</td><td>14.07</td><td>23.25</td><td>16.67</td><td>  2.89</td><td>86.56</td><td>2.70</td></tr>\n",
       "\t<tr><th scope=row>3</th><td>2015</td><td>3</td><td>27.98</td><td>27.05</td><td>14.29</td><td>  0.05</td><td>72.75</td><td>1.50</td></tr>\n",
       "\t<tr><th scope=row>4</th><td>2015</td><td>4</td><td>32.09</td><td>28.86</td><td>16.41</td><td>  0.00</td><td>76.06</td><td>1.77</td></tr>\n",
       "\t<tr><th scope=row>5</th><td>2015</td><td>5</td><td>28.96</td><td>29.50</td><td>16.85</td><td>  4.66</td><td>79.75</td><td>1.41</td></tr>\n",
       "\t<tr><th scope=row>6</th><td>2015</td><td>6</td><td>29.91</td><td>27.23</td><td>21.09</td><td>  0.34</td><td>86.00</td><td>2.14</td></tr>\n",
       "</tbody>\n",
       "</table>\n"
      ],
      "text/latex": [
       "A met: 6 × 8\n",
       "\\begin{tabular}{r|llllllll}\n",
       "  & year & day & radn & maxt & mint & rain & rh & windspeed\\\\\n",
       "  & <dbl> & <int> & <dbl> & <dbl> & <dbl> & <dbl> & <dbl> & <dbl>\\\\\n",
       "\\hline\n",
       "\t1 & 2015 & 1 &  5.85 & 26.61 & 22.24 & 109.49 & 93.50 & 4.23\\\\\n",
       "\t2 & 2015 & 2 & 14.07 & 23.25 & 16.67 &   2.89 & 86.56 & 2.70\\\\\n",
       "\t3 & 2015 & 3 & 27.98 & 27.05 & 14.29 &   0.05 & 72.75 & 1.50\\\\\n",
       "\t4 & 2015 & 4 & 32.09 & 28.86 & 16.41 &   0.00 & 76.06 & 1.77\\\\\n",
       "\t5 & 2015 & 5 & 28.96 & 29.50 & 16.85 &   4.66 & 79.75 & 1.41\\\\\n",
       "\t6 & 2015 & 6 & 29.91 & 27.23 & 21.09 &   0.34 & 86.00 & 2.14\\\\\n",
       "\\end{tabular}\n"
      ],
      "text/markdown": [
       "\n",
       "A met: 6 × 8\n",
       "\n",
       "| <!--/--> | year &lt;dbl&gt; | day &lt;int&gt; | radn &lt;dbl&gt; | maxt &lt;dbl&gt; | mint &lt;dbl&gt; | rain &lt;dbl&gt; | rh &lt;dbl&gt; | windspeed &lt;dbl&gt; |\n",
       "|---|---|---|---|---|---|---|---|---|\n",
       "| 1 | 2015 | 1 |  5.85 | 26.61 | 22.24 | 109.49 | 93.50 | 4.23 |\n",
       "| 2 | 2015 | 2 | 14.07 | 23.25 | 16.67 |   2.89 | 86.56 | 2.70 |\n",
       "| 3 | 2015 | 3 | 27.98 | 27.05 | 14.29 |   0.05 | 72.75 | 1.50 |\n",
       "| 4 | 2015 | 4 | 32.09 | 28.86 | 16.41 |   0.00 | 76.06 | 1.77 |\n",
       "| 5 | 2015 | 5 | 28.96 | 29.50 | 16.85 |   4.66 | 79.75 | 1.41 |\n",
       "| 6 | 2015 | 6 | 29.91 | 27.23 | 21.09 |   0.34 | 86.00 | 2.14 |\n",
       "\n"
      ],
      "text/plain": [
       "  year day radn  maxt  mint  rain   rh    windspeed\n",
       "1 2015 1    5.85 26.61 22.24 109.49 93.50 4.23     \n",
       "2 2015 2   14.07 23.25 16.67   2.89 86.56 2.70     \n",
       "3 2015 3   27.98 27.05 14.29   0.05 72.75 1.50     \n",
       "4 2015 4   32.09 28.86 16.41   0.00 76.06 1.77     \n",
       "5 2015 5   28.96 29.50 16.85   4.66 79.75 1.41     \n",
       "6 2015 6   29.91 27.23 21.09   0.34 86.00 2.14     "
      ]
     },
     "metadata": {},
     "output_type": "display_data"
    },
    {
     "data": {
      "text/html": [
       "<table class=\"dataframe\">\n",
       "<caption>A data.frame: 4 × 12</caption>\n",
       "<thead>\n",
       "\t<tr><th scope=col>year</th><th scope=col>months</th><th scope=col>days</th><th scope=col>high_maxt</th><th scope=col>high_mint</th><th scope=col>avg_maxt</th><th scope=col>avg_mint</th><th scope=col>low_maxt</th><th scope=col>low_mint</th><th scope=col>rain_sum</th><th scope=col>radn_sum</th><th scope=col>radn_avg</th></tr>\n",
       "\t<tr><th scope=col>&lt;dbl&gt;</th><th scope=col>&lt;chr&gt;</th><th scope=col>&lt;chr&gt;</th><th scope=col>&lt;dbl&gt;</th><th scope=col>&lt;dbl&gt;</th><th scope=col>&lt;dbl&gt;</th><th scope=col>&lt;dbl&gt;</th><th scope=col>&lt;dbl&gt;</th><th scope=col>&lt;dbl&gt;</th><th scope=col>&lt;dbl&gt;</th><th scope=col>&lt;dbl&gt;</th><th scope=col>&lt;dbl&gt;</th></tr>\n",
       "</thead>\n",
       "<tbody>\n",
       "\t<tr><td>2015</td><td>1:12</td><td>1:31</td><td>31.94</td><td>22.46</td><td>24.62</td><td>14.38</td><td>12.20</td><td> 0.55</td><td>1636.16</td><td>5752.51</td><td>15.76</td></tr>\n",
       "\t<tr><td>2016</td><td>1:12</td><td>1:31</td><td>30.89</td><td>22.87</td><td>23.66</td><td>13.14</td><td>10.48</td><td>-2.52</td><td>1591.54</td><td>6262.68</td><td>17.11</td></tr>\n",
       "\t<tr><td>2017</td><td>1:12</td><td>1:31</td><td>32.10</td><td>22.58</td><td>24.62</td><td>13.90</td><td> 9.40</td><td>-3.91</td><td>2090.74</td><td>6304.86</td><td>17.27</td></tr>\n",
       "\t<tr><td>2018</td><td>1:12</td><td>1:31</td><td>32.48</td><td>21.48</td><td>27.53</td><td>17.07</td><td>22.32</td><td>10.98</td><td> 507.69</td><td>2082.03</td><td>20.82</td></tr>\n",
       "</tbody>\n",
       "</table>\n"
      ],
      "text/latex": [
       "A data.frame: 4 × 12\n",
       "\\begin{tabular}{llllllllllll}\n",
       " year & months & days & high\\_maxt & high\\_mint & avg\\_maxt & avg\\_mint & low\\_maxt & low\\_mint & rain\\_sum & radn\\_sum & radn\\_avg\\\\\n",
       " <dbl> & <chr> & <chr> & <dbl> & <dbl> & <dbl> & <dbl> & <dbl> & <dbl> & <dbl> & <dbl> & <dbl>\\\\\n",
       "\\hline\n",
       "\t 2015 & 1:12 & 1:31 & 31.94 & 22.46 & 24.62 & 14.38 & 12.20 &  0.55 & 1636.16 & 5752.51 & 15.76\\\\\n",
       "\t 2016 & 1:12 & 1:31 & 30.89 & 22.87 & 23.66 & 13.14 & 10.48 & -2.52 & 1591.54 & 6262.68 & 17.11\\\\\n",
       "\t 2017 & 1:12 & 1:31 & 32.10 & 22.58 & 24.62 & 13.90 &  9.40 & -3.91 & 2090.74 & 6304.86 & 17.27\\\\\n",
       "\t 2018 & 1:12 & 1:31 & 32.48 & 21.48 & 27.53 & 17.07 & 22.32 & 10.98 &  507.69 & 2082.03 & 20.82\\\\\n",
       "\\end{tabular}\n"
      ],
      "text/markdown": [
       "\n",
       "A data.frame: 4 × 12\n",
       "\n",
       "| year &lt;dbl&gt; | months &lt;chr&gt; | days &lt;chr&gt; | high_maxt &lt;dbl&gt; | high_mint &lt;dbl&gt; | avg_maxt &lt;dbl&gt; | avg_mint &lt;dbl&gt; | low_maxt &lt;dbl&gt; | low_mint &lt;dbl&gt; | rain_sum &lt;dbl&gt; | radn_sum &lt;dbl&gt; | radn_avg &lt;dbl&gt; |\n",
       "|---|---|---|---|---|---|---|---|---|---|---|---|\n",
       "| 2015 | 1:12 | 1:31 | 31.94 | 22.46 | 24.62 | 14.38 | 12.20 |  0.55 | 1636.16 | 5752.51 | 15.76 |\n",
       "| 2016 | 1:12 | 1:31 | 30.89 | 22.87 | 23.66 | 13.14 | 10.48 | -2.52 | 1591.54 | 6262.68 | 17.11 |\n",
       "| 2017 | 1:12 | 1:31 | 32.10 | 22.58 | 24.62 | 13.90 |  9.40 | -3.91 | 2090.74 | 6304.86 | 17.27 |\n",
       "| 2018 | 1:12 | 1:31 | 32.48 | 21.48 | 27.53 | 17.07 | 22.32 | 10.98 |  507.69 | 2082.03 | 20.82 |\n",
       "\n"
      ],
      "text/plain": [
       "  year months days high_maxt high_mint avg_maxt avg_mint low_maxt low_mint\n",
       "1 2015 1:12   1:31 31.94     22.46     24.62    14.38    12.20     0.55   \n",
       "2 2016 1:12   1:31 30.89     22.87     23.66    13.14    10.48    -2.52   \n",
       "3 2017 1:12   1:31 32.10     22.58     24.62    13.90     9.40    -3.91   \n",
       "4 2018 1:12   1:31 32.48     21.48     27.53    17.07    22.32    10.98   \n",
       "  rain_sum radn_sum radn_avg\n",
       "1 1636.16  5752.51  15.76   \n",
       "2 1591.54  6262.68  17.11   \n",
       "3 2090.74  6304.86  17.27   \n",
       "4  507.69  2082.03  20.82   "
      ]
     },
     "metadata": {},
     "output_type": "display_data"
    }
   ],
   "source": [
    "head(power_data)\n",
    "\n",
    "summary(power_data)"
   ]
  },
  {
   "cell_type": "markdown",
   "metadata": {},
   "source": [
    "### Plot meteorological data"
   ]
  },
  {
   "cell_type": "markdown",
   "metadata": {},
   "source": [
    "For a fast plot of met data, you can use the **plot** function:"
   ]
  },
  {
   "cell_type": "code",
   "execution_count": 14,
   "metadata": {
    "vscode": {
     "languageId": "r"
    }
   },
   "outputs": [
    {
     "data": {
      "text/html": [
       "<table class=\"dataframe\">\n",
       "<caption>A met: 6 × 8</caption>\n",
       "<thead>\n",
       "\t<tr><th></th><th scope=col>year</th><th scope=col>day</th><th scope=col>radn</th><th scope=col>maxt</th><th scope=col>mint</th><th scope=col>rain</th><th scope=col>rh</th><th scope=col>windspeed</th></tr>\n",
       "\t<tr><th></th><th scope=col>&lt;dbl&gt;</th><th scope=col>&lt;int&gt;</th><th scope=col>&lt;dbl&gt;</th><th scope=col>&lt;dbl&gt;</th><th scope=col>&lt;dbl&gt;</th><th scope=col>&lt;dbl&gt;</th><th scope=col>&lt;dbl&gt;</th><th scope=col>&lt;dbl&gt;</th></tr>\n",
       "</thead>\n",
       "<tbody>\n",
       "\t<tr><th scope=row>1</th><td>2015</td><td>1</td><td> 5.85</td><td>26.61</td><td>22.24</td><td>109.49</td><td>93.50</td><td>4.23</td></tr>\n",
       "\t<tr><th scope=row>2</th><td>2015</td><td>2</td><td>14.07</td><td>23.25</td><td>16.67</td><td>  2.89</td><td>86.56</td><td>2.70</td></tr>\n",
       "\t<tr><th scope=row>3</th><td>2015</td><td>3</td><td>27.98</td><td>27.05</td><td>14.29</td><td>  0.05</td><td>72.75</td><td>1.50</td></tr>\n",
       "\t<tr><th scope=row>4</th><td>2015</td><td>4</td><td>32.09</td><td>28.86</td><td>16.41</td><td>  0.00</td><td>76.06</td><td>1.77</td></tr>\n",
       "\t<tr><th scope=row>5</th><td>2015</td><td>5</td><td>28.96</td><td>29.50</td><td>16.85</td><td>  4.66</td><td>79.75</td><td>1.41</td></tr>\n",
       "\t<tr><th scope=row>6</th><td>2015</td><td>6</td><td>29.91</td><td>27.23</td><td>21.09</td><td>  0.34</td><td>86.00</td><td>2.14</td></tr>\n",
       "</tbody>\n",
       "</table>\n"
      ],
      "text/latex": [
       "A met: 6 × 8\n",
       "\\begin{tabular}{r|llllllll}\n",
       "  & year & day & radn & maxt & mint & rain & rh & windspeed\\\\\n",
       "  & <dbl> & <int> & <dbl> & <dbl> & <dbl> & <dbl> & <dbl> & <dbl>\\\\\n",
       "\\hline\n",
       "\t1 & 2015 & 1 &  5.85 & 26.61 & 22.24 & 109.49 & 93.50 & 4.23\\\\\n",
       "\t2 & 2015 & 2 & 14.07 & 23.25 & 16.67 &   2.89 & 86.56 & 2.70\\\\\n",
       "\t3 & 2015 & 3 & 27.98 & 27.05 & 14.29 &   0.05 & 72.75 & 1.50\\\\\n",
       "\t4 & 2015 & 4 & 32.09 & 28.86 & 16.41 &   0.00 & 76.06 & 1.77\\\\\n",
       "\t5 & 2015 & 5 & 28.96 & 29.50 & 16.85 &   4.66 & 79.75 & 1.41\\\\\n",
       "\t6 & 2015 & 6 & 29.91 & 27.23 & 21.09 &   0.34 & 86.00 & 2.14\\\\\n",
       "\\end{tabular}\n"
      ],
      "text/markdown": [
       "\n",
       "A met: 6 × 8\n",
       "\n",
       "| <!--/--> | year &lt;dbl&gt; | day &lt;int&gt; | radn &lt;dbl&gt; | maxt &lt;dbl&gt; | mint &lt;dbl&gt; | rain &lt;dbl&gt; | rh &lt;dbl&gt; | windspeed &lt;dbl&gt; |\n",
       "|---|---|---|---|---|---|---|---|---|\n",
       "| 1 | 2015 | 1 |  5.85 | 26.61 | 22.24 | 109.49 | 93.50 | 4.23 |\n",
       "| 2 | 2015 | 2 | 14.07 | 23.25 | 16.67 |   2.89 | 86.56 | 2.70 |\n",
       "| 3 | 2015 | 3 | 27.98 | 27.05 | 14.29 |   0.05 | 72.75 | 1.50 |\n",
       "| 4 | 2015 | 4 | 32.09 | 28.86 | 16.41 |   0.00 | 76.06 | 1.77 |\n",
       "| 5 | 2015 | 5 | 28.96 | 29.50 | 16.85 |   4.66 | 79.75 | 1.41 |\n",
       "| 6 | 2015 | 6 | 29.91 | 27.23 | 21.09 |   0.34 | 86.00 | 2.14 |\n",
       "\n"
      ],
      "text/plain": [
       "  year day radn  maxt  mint  rain   rh    windspeed\n",
       "1 2015 1    5.85 26.61 22.24 109.49 93.50 4.23     \n",
       "2 2015 2   14.07 23.25 16.67   2.89 86.56 2.70     \n",
       "3 2015 3   27.98 27.05 14.29   0.05 72.75 1.50     \n",
       "4 2015 4   32.09 28.86 16.41   0.00 76.06 1.77     \n",
       "5 2015 5   28.96 29.50 16.85   4.66 79.75 1.41     \n",
       "6 2015 6   29.91 27.23 21.09   0.34 86.00 2.14     "
      ]
     },
     "metadata": {},
     "output_type": "display_data"
    },
    {
     "data": {
      "image/png": "[encoded data removed]",
      "text/plain": [
       "plot without title"
      ]
     },
     "metadata": {
      "image/png": {
       "height": 480,
       "width": 900
      }
     },
     "output_type": "display_data"
    }
   ],
   "source": [
    "options(repr.plot.width=15, repr.plot.height=8)\n",
    "\n",
    "plot(power_data)\n",
    "\n",
    "head(power_data)"
   ]
  },
  {
   "cell_type": "markdown",
   "metadata": {},
   "source": [
    "We can also plot data using ggplot. To do this, we can pivot columns to rows in a tidy format and plot data using facet_grid."
   ]
  },
  {
   "cell_type": "code",
   "execution_count": 15,
   "metadata": {
    "vscode": {
     "languageId": "r"
    }
   },
   "outputs": [
    {
     "data": {
      "text/html": [
       "<table class=\"dataframe\">\n",
       "<caption>A met: 6 × 8</caption>\n",
       "<thead>\n",
       "\t<tr><th></th><th scope=col>year</th><th scope=col>day</th><th scope=col>radn</th><th scope=col>maxt</th><th scope=col>mint</th><th scope=col>rain</th><th scope=col>rh</th><th scope=col>windspeed</th></tr>\n",
       "\t<tr><th></th><th scope=col>&lt;dbl&gt;</th><th scope=col>&lt;int&gt;</th><th scope=col>&lt;dbl&gt;</th><th scope=col>&lt;dbl&gt;</th><th scope=col>&lt;dbl&gt;</th><th scope=col>&lt;dbl&gt;</th><th scope=col>&lt;dbl&gt;</th><th scope=col>&lt;dbl&gt;</th></tr>\n",
       "</thead>\n",
       "<tbody>\n",
       "\t<tr><th scope=row>1</th><td>2015</td><td>1</td><td> 5.85</td><td>26.61</td><td>22.24</td><td>109.49</td><td>93.50</td><td>4.23</td></tr>\n",
       "\t<tr><th scope=row>2</th><td>2015</td><td>2</td><td>14.07</td><td>23.25</td><td>16.67</td><td>  2.89</td><td>86.56</td><td>2.70</td></tr>\n",
       "\t<tr><th scope=row>3</th><td>2015</td><td>3</td><td>27.98</td><td>27.05</td><td>14.29</td><td>  0.05</td><td>72.75</td><td>1.50</td></tr>\n",
       "\t<tr><th scope=row>4</th><td>2015</td><td>4</td><td>32.09</td><td>28.86</td><td>16.41</td><td>  0.00</td><td>76.06</td><td>1.77</td></tr>\n",
       "\t<tr><th scope=row>5</th><td>2015</td><td>5</td><td>28.96</td><td>29.50</td><td>16.85</td><td>  4.66</td><td>79.75</td><td>1.41</td></tr>\n",
       "\t<tr><th scope=row>6</th><td>2015</td><td>6</td><td>29.91</td><td>27.23</td><td>21.09</td><td>  0.34</td><td>86.00</td><td>2.14</td></tr>\n",
       "</tbody>\n",
       "</table>\n"
      ],
      "text/latex": [
       "A met: 6 × 8\n",
       "\\begin{tabular}{r|llllllll}\n",
       "  & year & day & radn & maxt & mint & rain & rh & windspeed\\\\\n",
       "  & <dbl> & <int> & <dbl> & <dbl> & <dbl> & <dbl> & <dbl> & <dbl>\\\\\n",
       "\\hline\n",
       "\t1 & 2015 & 1 &  5.85 & 26.61 & 22.24 & 109.49 & 93.50 & 4.23\\\\\n",
       "\t2 & 2015 & 2 & 14.07 & 23.25 & 16.67 &   2.89 & 86.56 & 2.70\\\\\n",
       "\t3 & 2015 & 3 & 27.98 & 27.05 & 14.29 &   0.05 & 72.75 & 1.50\\\\\n",
       "\t4 & 2015 & 4 & 32.09 & 28.86 & 16.41 &   0.00 & 76.06 & 1.77\\\\\n",
       "\t5 & 2015 & 5 & 28.96 & 29.50 & 16.85 &   4.66 & 79.75 & 1.41\\\\\n",
       "\t6 & 2015 & 6 & 29.91 & 27.23 & 21.09 &   0.34 & 86.00 & 2.14\\\\\n",
       "\\end{tabular}\n"
      ],
      "text/markdown": [
       "\n",
       "A met: 6 × 8\n",
       "\n",
       "| <!--/--> | year &lt;dbl&gt; | day &lt;int&gt; | radn &lt;dbl&gt; | maxt &lt;dbl&gt; | mint &lt;dbl&gt; | rain &lt;dbl&gt; | rh &lt;dbl&gt; | windspeed &lt;dbl&gt; |\n",
       "|---|---|---|---|---|---|---|---|---|\n",
       "| 1 | 2015 | 1 |  5.85 | 26.61 | 22.24 | 109.49 | 93.50 | 4.23 |\n",
       "| 2 | 2015 | 2 | 14.07 | 23.25 | 16.67 |   2.89 | 86.56 | 2.70 |\n",
       "| 3 | 2015 | 3 | 27.98 | 27.05 | 14.29 |   0.05 | 72.75 | 1.50 |\n",
       "| 4 | 2015 | 4 | 32.09 | 28.86 | 16.41 |   0.00 | 76.06 | 1.77 |\n",
       "| 5 | 2015 | 5 | 28.96 | 29.50 | 16.85 |   4.66 | 79.75 | 1.41 |\n",
       "| 6 | 2015 | 6 | 29.91 | 27.23 | 21.09 |   0.34 | 86.00 | 2.14 |\n",
       "\n"
      ],
      "text/plain": [
       "  year day radn  maxt  mint  rain   rh    windspeed\n",
       "1 2015 1    5.85 26.61 22.24 109.49 93.50 4.23     \n",
       "2 2015 2   14.07 23.25 16.67   2.89 86.56 2.70     \n",
       "3 2015 3   27.98 27.05 14.29   0.05 72.75 1.50     \n",
       "4 2015 4   32.09 28.86 16.41   0.00 76.06 1.77     \n",
       "5 2015 5   28.96 29.50 16.85   4.66 79.75 1.41     \n",
       "6 2015 6   29.91 27.23 21.09   0.34 86.00 2.14     "
      ]
     },
     "metadata": {},
     "output_type": "display_data"
    },
    {
     "data": {
      "text/html": [
       "<table class=\"dataframe\">\n",
       "<caption>A tibble: 6 × 4</caption>\n",
       "<thead>\n",
       "\t<tr><th scope=col>year</th><th scope=col>day</th><th scope=col>variable</th><th scope=col>value</th></tr>\n",
       "\t<tr><th scope=col>&lt;dbl&gt;</th><th scope=col>&lt;int&gt;</th><th scope=col>&lt;chr&gt;</th><th scope=col>&lt;dbl&gt;</th></tr>\n",
       "</thead>\n",
       "<tbody>\n",
       "\t<tr><td>2015</td><td>1</td><td>radn     </td><td>  5.85</td></tr>\n",
       "\t<tr><td>2015</td><td>1</td><td>maxt     </td><td> 26.61</td></tr>\n",
       "\t<tr><td>2015</td><td>1</td><td>mint     </td><td> 22.24</td></tr>\n",
       "\t<tr><td>2015</td><td>1</td><td>rain     </td><td>109.49</td></tr>\n",
       "\t<tr><td>2015</td><td>1</td><td>rh       </td><td> 93.50</td></tr>\n",
       "\t<tr><td>2015</td><td>1</td><td>windspeed</td><td>  4.23</td></tr>\n",
       "</tbody>\n",
       "</table>\n"
      ],
      "text/latex": [
       "A tibble: 6 × 4\n",
       "\\begin{tabular}{llll}\n",
       " year & day & variable & value\\\\\n",
       " <dbl> & <int> & <chr> & <dbl>\\\\\n",
       "\\hline\n",
       "\t 2015 & 1 & radn      &   5.85\\\\\n",
       "\t 2015 & 1 & maxt      &  26.61\\\\\n",
       "\t 2015 & 1 & mint      &  22.24\\\\\n",
       "\t 2015 & 1 & rain      & 109.49\\\\\n",
       "\t 2015 & 1 & rh        &  93.50\\\\\n",
       "\t 2015 & 1 & windspeed &   4.23\\\\\n",
       "\\end{tabular}\n"
      ],
      "text/markdown": [
       "\n",
       "A tibble: 6 × 4\n",
       "\n",
       "| year &lt;dbl&gt; | day &lt;int&gt; | variable &lt;chr&gt; | value &lt;dbl&gt; |\n",
       "|---|---|---|---|\n",
       "| 2015 | 1 | radn      |   5.85 |\n",
       "| 2015 | 1 | maxt      |  26.61 |\n",
       "| 2015 | 1 | mint      |  22.24 |\n",
       "| 2015 | 1 | rain      | 109.49 |\n",
       "| 2015 | 1 | rh        |  93.50 |\n",
       "| 2015 | 1 | windspeed |   4.23 |\n",
       "\n"
      ],
      "text/plain": [
       "  year day variable  value \n",
       "1 2015 1   radn        5.85\n",
       "2 2015 1   maxt       26.61\n",
       "3 2015 1   mint       22.24\n",
       "4 2015 1   rain      109.49\n",
       "5 2015 1   rh         93.50\n",
       "6 2015 1   windspeed   4.23"
      ]
     },
     "metadata": {},
     "output_type": "display_data"
    }
   ],
   "source": [
    "head(power_data)\n",
    "\n",
    "df_power <- tidyr::pivot_longer(power_data, cols = -c(year, day), names_to = \"variable\", values_to = \"value\")\n",
    "\n",
    "head(df_power)"
   ]
  },
  {
   "cell_type": "code",
   "execution_count": 16,
   "metadata": {
    "vscode": {
     "languageId": "r"
    }
   },
   "outputs": [
    {
     "name": "stderr",
     "output_type": "stream",
     "text": [
      "Warning message:\n",
      "\"package 'ggplot2' was built under R version 4.2.3\"\n"
     ]
    },
    {
     "data": {
      "image/png": "[encoded data removed]",
      "text/plain": [
       "plot without title"
      ]
     },
     "metadata": {
      "image/png": {
       "height": 720,
       "width": 900
      }
     },
     "output_type": "display_data"
    }
   ],
   "source": [
    "# Plot \n",
    "library(ggplot2)\n",
    "\n",
    "options(repr.plot.width=15, repr.plot.height=12)\n",
    "\n",
    "ggplot(df_power) + \n",
    "    geom_line(aes(x = day, y = value)) +\n",
    "    facet_grid(variable ~ year, scales = \"free_y\") +\n",
    "    theme(text = element_text(size = 20))"
   ]
  },
  {
   "cell_type": "markdown",
   "metadata": {},
   "source": [
    "### Use this generated weather file in our model"
   ]
  },
  {
   "cell_type": "markdown",
   "metadata": {},
   "source": [
    "CHeck which file is being used currently:"
   ]
  },
  {
   "cell_type": "code",
   "execution_count": 17,
   "metadata": {
    "vscode": {
     "languageId": "r"
    }
   },
   "outputs": [
    {
     "name": "stdout",
     "output_type": "stream",
     "text": [
      "Met file: %root%\\Examples\\WeatherFiles\\Dalby.met \n"
     ]
    }
   ],
   "source": [
    "inspect_apsimx(\n",
    "    file = SIM_NAME, \n",
    "    node = \"Weather\"\n",
    ")"
   ]
  },
  {
   "cell_type": "markdown",
   "metadata": {},
   "source": [
    "Update met and inspect again if the change was done:"
   ]
  },
  {
   "cell_type": "code",
   "execution_count": 18,
   "metadata": {
    "vscode": {
     "languageId": "r"
    }
   },
   "outputs": [
    {
     "name": "stdout",
     "output_type": "stream",
     "text": [
      "Edited (node):  Weather \n",
      "Edited (child):  none \n",
      "Edited parameters:  \n",
      "New values:  ./power.met \n",
      "Created:  ./Soybean.apsimx \n"
     ]
    }
   ],
   "source": [
    "edit_apsimx(\n",
    "    file = SIM_NAME, wrt.dir = \".\", overwrite = T,\n",
    "    node = \"Weather\", \n",
    "    value = \"./power.met\"\n",
    ")"
   ]
  },
  {
   "cell_type": "markdown",
   "metadata": {},
   "source": [
    "Inspect again to check if the met file to be usedin simulation was updated:"
   ]
  },
  {
   "cell_type": "code",
   "execution_count": 19,
   "metadata": {
    "vscode": {
     "languageId": "r"
    }
   },
   "outputs": [
    {
     "name": "stdout",
     "output_type": "stream",
     "text": [
      "Met file: ./power.met \n"
     ]
    }
   ],
   "source": [
    "inspect_apsimx(\n",
    "    file = SIM_NAME, \n",
    "    node = \"Weather\"\n",
    ")"
   ]
  },
  {
   "cell_type": "markdown",
   "metadata": {},
   "source": [
    "# Obtain Soil Data from ISRIC (International Soil Reference and Information Centre)"
   ]
  },
  {
   "cell_type": "markdown",
   "metadata": {},
   "source": [
    "Set coordinates, get soil profile and view:"
   ]
  },
  {
   "cell_type": "code",
   "execution_count": 20,
   "metadata": {
    "vscode": {
     "languageId": "r"
    }
   },
   "outputs": [],
   "source": [
    "lonlat <- c(-52.90, -28.23)"
   ]
  },
  {
   "cell_type": "code",
   "execution_count": 21,
   "metadata": {
    "vscode": {
     "languageId": "r"
    }
   },
   "outputs": [],
   "source": [
    "isric_soil <- get_isric_soil_profile(\n",
    "    lonlat = lonlat\n",
    ")"
   ]
  },
  {
   "cell_type": "code",
   "execution_count": 22,
   "metadata": {
    "vscode": {
     "languageId": "r"
    }
   },
   "outputs": [],
   "source": [
    "# head(isric_soil)"
   ]
  },
  {
   "cell_type": "markdown",
   "metadata": {},
   "source": [
    "Below we can check the profile information:"
   ]
  },
  {
   "cell_type": "code",
   "execution_count": 23,
   "metadata": {
    "vscode": {
     "languageId": "r"
    }
   },
   "outputs": [
    {
     "data": {
      "text/html": [
       "<table class=\"dataframe\">\n",
       "<caption>A data.frame: 6 × 31</caption>\n",
       "<thead>\n",
       "\t<tr><th></th><th scope=col>Depth</th><th scope=col>Thickness</th><th scope=col>BD</th><th scope=col>AirDry</th><th scope=col>LL15</th><th scope=col>DUL</th><th scope=col>SAT</th><th scope=col>KS</th><th scope=col>Carbon</th><th scope=col>SoilCNRatio</th><th scope=col>⋯</th><th scope=col>Maize.LL</th><th scope=col>Maize.XF</th><th scope=col>Soybean.KL</th><th scope=col>Soybean.LL</th><th scope=col>Soybean.XF</th><th scope=col>Wheat.KL</th><th scope=col>Wheat.LL</th><th scope=col>Wheat.XF</th><th scope=col>CEC</th><th scope=col>Nitrogen</th></tr>\n",
       "\t<tr><th></th><th scope=col>&lt;chr&gt;</th><th scope=col>&lt;dbl&gt;</th><th scope=col>&lt;dbl&gt;</th><th scope=col>&lt;dbl&gt;</th><th scope=col>&lt;dbl&gt;</th><th scope=col>&lt;dbl&gt;</th><th scope=col>&lt;dbl&gt;</th><th scope=col>&lt;dbl&gt;</th><th scope=col>&lt;dbl&gt;</th><th scope=col>&lt;dbl&gt;</th><th scope=col>⋯</th><th scope=col>&lt;dbl&gt;</th><th scope=col>&lt;dbl&gt;</th><th scope=col>&lt;dbl&gt;</th><th scope=col>&lt;dbl&gt;</th><th scope=col>&lt;dbl&gt;</th><th scope=col>&lt;dbl&gt;</th><th scope=col>&lt;dbl&gt;</th><th scope=col>&lt;dbl&gt;</th><th scope=col>&lt;int&gt;</th><th scope=col>&lt;int&gt;</th></tr>\n",
       "</thead>\n",
       "<tbody>\n",
       "\t<tr><th scope=row>1</th><td>0-5    </td><td>  50</td><td>1.03</td><td>0.1217828</td><td>0.2435655</td><td>0.3758188</td><td>0.4547182</td><td>126.50597</td><td>5.78</td><td>12</td><td>⋯</td><td>0.2435655</td><td>1</td><td>0.06000000</td><td>0.2435655</td><td>1</td><td>0.06000000</td><td>0.2435655</td><td>1</td><td>233</td><td>437</td></tr>\n",
       "\t<tr><th scope=row>2</th><td>5-15   </td><td> 100</td><td>1.08</td><td>0.2565085</td><td>0.2565085</td><td>0.3886890</td><td>0.4625238</td><td>103.17656</td><td>2.85</td><td>12</td><td>⋯</td><td>0.2565085</td><td>1</td><td>0.04912385</td><td>0.2565085</td><td>1</td><td>0.04912385</td><td>0.2565085</td><td>1</td><td>190</td><td>240</td></tr>\n",
       "\t<tr><th scope=row>3</th><td>15-30  </td><td> 150</td><td>1.14</td><td>0.2677019</td><td>0.2677019</td><td>0.3995050</td><td>0.4700243</td><td> 89.38960</td><td>2.02</td><td>12</td><td>⋯</td><td>0.2677019</td><td>1</td><td>0.04021920</td><td>0.2677019</td><td>1</td><td>0.04021920</td><td>0.2677019</td><td>1</td><td>192</td><td>208</td></tr>\n",
       "\t<tr><th scope=row>4</th><td>30-60  </td><td> 300</td><td>1.17</td><td>0.3040410</td><td>0.3040410</td><td>0.4321012</td><td>0.4930030</td><td> 56.41276</td><td>1.24</td><td>12</td><td>⋯</td><td>0.3040410</td><td>1</td><td>0.03292870</td><td>0.3040410</td><td>1</td><td>0.03292870</td><td>0.3040410</td><td>1</td><td>177</td><td>125</td></tr>\n",
       "\t<tr><th scope=row>5</th><td>60-100 </td><td> 400</td><td>1.21</td><td>0.3192580</td><td>0.3192580</td><td>0.4456555</td><td>0.5038253</td><td> 48.70834</td><td>0.93</td><td>12</td><td>⋯</td><td>0.3192580</td><td>1</td><td>0.02695974</td><td>0.3192580</td><td>1</td><td>0.02695974</td><td>0.3192580</td><td>1</td><td>174</td><td> 90</td></tr>\n",
       "\t<tr><th scope=row>6</th><td>100-200</td><td>1000</td><td>1.22</td><td>0.3170131</td><td>0.3170131</td><td>0.4436521</td><td>0.5019924</td><td> 49.21887</td><td>0.94</td><td>12</td><td>⋯</td><td>0.3170131</td><td>1</td><td>0.02207277</td><td>0.3170131</td><td>1</td><td>0.02207277</td><td>0.3170131</td><td>1</td><td>176</td><td> 80</td></tr>\n",
       "</tbody>\n",
       "</table>\n"
      ],
      "text/latex": [
       "A data.frame: 6 × 31\n",
       "\\begin{tabular}{r|lllllllllllllllllllll}\n",
       "  & Depth & Thickness & BD & AirDry & LL15 & DUL & SAT & KS & Carbon & SoilCNRatio & ⋯ & Maize.LL & Maize.XF & Soybean.KL & Soybean.LL & Soybean.XF & Wheat.KL & Wheat.LL & Wheat.XF & CEC & Nitrogen\\\\\n",
       "  & <chr> & <dbl> & <dbl> & <dbl> & <dbl> & <dbl> & <dbl> & <dbl> & <dbl> & <dbl> & ⋯ & <dbl> & <dbl> & <dbl> & <dbl> & <dbl> & <dbl> & <dbl> & <dbl> & <int> & <int>\\\\\n",
       "\\hline\n",
       "\t1 & 0-5     &   50 & 1.03 & 0.1217828 & 0.2435655 & 0.3758188 & 0.4547182 & 126.50597 & 5.78 & 12 & ⋯ & 0.2435655 & 1 & 0.06000000 & 0.2435655 & 1 & 0.06000000 & 0.2435655 & 1 & 233 & 437\\\\\n",
       "\t2 & 5-15    &  100 & 1.08 & 0.2565085 & 0.2565085 & 0.3886890 & 0.4625238 & 103.17656 & 2.85 & 12 & ⋯ & 0.2565085 & 1 & 0.04912385 & 0.2565085 & 1 & 0.04912385 & 0.2565085 & 1 & 190 & 240\\\\\n",
       "\t3 & 15-30   &  150 & 1.14 & 0.2677019 & 0.2677019 & 0.3995050 & 0.4700243 &  89.38960 & 2.02 & 12 & ⋯ & 0.2677019 & 1 & 0.04021920 & 0.2677019 & 1 & 0.04021920 & 0.2677019 & 1 & 192 & 208\\\\\n",
       "\t4 & 30-60   &  300 & 1.17 & 0.3040410 & 0.3040410 & 0.4321012 & 0.4930030 &  56.41276 & 1.24 & 12 & ⋯ & 0.3040410 & 1 & 0.03292870 & 0.3040410 & 1 & 0.03292870 & 0.3040410 & 1 & 177 & 125\\\\\n",
       "\t5 & 60-100  &  400 & 1.21 & 0.3192580 & 0.3192580 & 0.4456555 & 0.5038253 &  48.70834 & 0.93 & 12 & ⋯ & 0.3192580 & 1 & 0.02695974 & 0.3192580 & 1 & 0.02695974 & 0.3192580 & 1 & 174 &  90\\\\\n",
       "\t6 & 100-200 & 1000 & 1.22 & 0.3170131 & 0.3170131 & 0.4436521 & 0.5019924 &  49.21887 & 0.94 & 12 & ⋯ & 0.3170131 & 1 & 0.02207277 & 0.3170131 & 1 & 0.02207277 & 0.3170131 & 1 & 176 &  80\\\\\n",
       "\\end{tabular}\n"
      ],
      "text/markdown": [
       "\n",
       "A data.frame: 6 × 31\n",
       "\n",
       "| <!--/--> | Depth &lt;chr&gt; | Thickness &lt;dbl&gt; | BD &lt;dbl&gt; | AirDry &lt;dbl&gt; | LL15 &lt;dbl&gt; | DUL &lt;dbl&gt; | SAT &lt;dbl&gt; | KS &lt;dbl&gt; | Carbon &lt;dbl&gt; | SoilCNRatio &lt;dbl&gt; | ⋯ ⋯ | Maize.LL &lt;dbl&gt; | Maize.XF &lt;dbl&gt; | Soybean.KL &lt;dbl&gt; | Soybean.LL &lt;dbl&gt; | Soybean.XF &lt;dbl&gt; | Wheat.KL &lt;dbl&gt; | Wheat.LL &lt;dbl&gt; | Wheat.XF &lt;dbl&gt; | CEC &lt;int&gt; | Nitrogen &lt;int&gt; |\n",
       "|---|---|---|---|---|---|---|---|---|---|---|---|---|---|---|---|---|---|---|---|---|---|\n",
       "| 1 | 0-5     |   50 | 1.03 | 0.1217828 | 0.2435655 | 0.3758188 | 0.4547182 | 126.50597 | 5.78 | 12 | ⋯ | 0.2435655 | 1 | 0.06000000 | 0.2435655 | 1 | 0.06000000 | 0.2435655 | 1 | 233 | 437 |\n",
       "| 2 | 5-15    |  100 | 1.08 | 0.2565085 | 0.2565085 | 0.3886890 | 0.4625238 | 103.17656 | 2.85 | 12 | ⋯ | 0.2565085 | 1 | 0.04912385 | 0.2565085 | 1 | 0.04912385 | 0.2565085 | 1 | 190 | 240 |\n",
       "| 3 | 15-30   |  150 | 1.14 | 0.2677019 | 0.2677019 | 0.3995050 | 0.4700243 |  89.38960 | 2.02 | 12 | ⋯ | 0.2677019 | 1 | 0.04021920 | 0.2677019 | 1 | 0.04021920 | 0.2677019 | 1 | 192 | 208 |\n",
       "| 4 | 30-60   |  300 | 1.17 | 0.3040410 | 0.3040410 | 0.4321012 | 0.4930030 |  56.41276 | 1.24 | 12 | ⋯ | 0.3040410 | 1 | 0.03292870 | 0.3040410 | 1 | 0.03292870 | 0.3040410 | 1 | 177 | 125 |\n",
       "| 5 | 60-100  |  400 | 1.21 | 0.3192580 | 0.3192580 | 0.4456555 | 0.5038253 |  48.70834 | 0.93 | 12 | ⋯ | 0.3192580 | 1 | 0.02695974 | 0.3192580 | 1 | 0.02695974 | 0.3192580 | 1 | 174 |  90 |\n",
       "| 6 | 100-200 | 1000 | 1.22 | 0.3170131 | 0.3170131 | 0.4436521 | 0.5019924 |  49.21887 | 0.94 | 12 | ⋯ | 0.3170131 | 1 | 0.02207277 | 0.3170131 | 1 | 0.02207277 | 0.3170131 | 1 | 176 |  80 |\n",
       "\n"
      ],
      "text/plain": [
       "  Depth   Thickness BD   AirDry    LL15      DUL       SAT       KS       \n",
       "1 0-5       50      1.03 0.1217828 0.2435655 0.3758188 0.4547182 126.50597\n",
       "2 5-15     100      1.08 0.2565085 0.2565085 0.3886890 0.4625238 103.17656\n",
       "3 15-30    150      1.14 0.2677019 0.2677019 0.3995050 0.4700243  89.38960\n",
       "4 30-60    300      1.17 0.3040410 0.3040410 0.4321012 0.4930030  56.41276\n",
       "5 60-100   400      1.21 0.3192580 0.3192580 0.4456555 0.5038253  48.70834\n",
       "6 100-200 1000      1.22 0.3170131 0.3170131 0.4436521 0.5019924  49.21887\n",
       "  Carbon SoilCNRatio ⋯ Maize.LL  Maize.XF Soybean.KL Soybean.LL Soybean.XF\n",
       "1 5.78   12          ⋯ 0.2435655 1        0.06000000 0.2435655  1         \n",
       "2 2.85   12          ⋯ 0.2565085 1        0.04912385 0.2565085  1         \n",
       "3 2.02   12          ⋯ 0.2677019 1        0.04021920 0.2677019  1         \n",
       "4 1.24   12          ⋯ 0.3040410 1        0.03292870 0.3040410  1         \n",
       "5 0.93   12          ⋯ 0.3192580 1        0.02695974 0.3192580  1         \n",
       "6 0.94   12          ⋯ 0.3170131 1        0.02207277 0.3170131  1         \n",
       "  Wheat.KL   Wheat.LL  Wheat.XF CEC Nitrogen\n",
       "1 0.06000000 0.2435655 1        233 437     \n",
       "2 0.04912385 0.2565085 1        190 240     \n",
       "3 0.04021920 0.2677019 1        192 208     \n",
       "4 0.03292870 0.3040410 1        177 125     \n",
       "5 0.02695974 0.3192580 1        174  90     \n",
       "6 0.02207277 0.3170131 1        176  80     "
      ]
     },
     "metadata": {},
     "output_type": "display_data"
    }
   ],
   "source": [
    "head(isric_soil$soil)"
   ]
  },
  {
   "cell_type": "markdown",
   "metadata": {},
   "source": [
    "<hr>\n",
    "\n",
    "# Edit APSIM simulation\n",
    "\n"
   ]
  },
  {
   "cell_type": "markdown",
   "metadata": {},
   "source": [
    "In this section we will edit parameters of the APSIM simulation using the package apsimx."
   ]
  },
  {
   "cell_type": "markdown",
   "metadata": {},
   "source": [
    "### Edit SowingRule start and end dates"
   ]
  },
  {
   "cell_type": "markdown",
   "metadata": {},
   "source": [
    "First, we can inspect the parameter that we will edit."
   ]
  },
  {
   "cell_type": "code",
   "execution_count": 24,
   "metadata": {
    "vscode": {
     "languageId": "r"
    }
   },
   "outputs": [
    {
     "name": "stdout",
     "output_type": "stream",
     "text": [
      "Management Scripts:  SowingFertiliser Harvesting SowingRule \n",
      "\n",
      "Name:  SowingRule \n",
      "\n",
      "\n",
      "|parm         |value |\n",
      "|:------------|:-----|\n",
      "|StartDate    |3-nov |\n",
      "|EndDate      |5-nov |\n",
      "|MinESW       |100   |\n",
      "|MinRain      |25    |\n",
      "|RainDays     |7     |\n",
      "|CultivarName |Davis |\n",
      "|SowingDepth  |50    |\n",
      "|RowSpacing   |750   |\n",
      "|Population   |38    |\n",
      "\n"
     ]
    }
   ],
   "source": [
    "inspect_apsimx(\n",
    "    file = SIM_NAME, \n",
    "    node = \"Manager\", \n",
    "    parm = list(\"SowingRule\", NA)\n",
    ")"
   ]
  },
  {
   "cell_type": "markdown",
   "metadata": {},
   "source": [
    "Edit parameters:\n",
    "\n",
    "<div class=\"alert\">\n",
    "    <span class=\"closebtn\" onclick=\"this.parentElement.style.display='none';\">&#9888;</span>\n",
    "    IMPORTANT: \n",
    "    <br>\n",
    "    <br>\n",
    "    Once you use the function <i>edit_apsimx</i> below with the parameter <i>overwrite</i> set to TRUE, the simulation file <i>.apsimx</i> will be overwritten. When set to FALSE, apsimx package create a new <i>.apsimx</i> simulation with edited values.\n",
    "</div>"
   ]
  },
  {
   "cell_type": "code",
   "execution_count": 25,
   "metadata": {
    "vscode": {
     "languageId": "r"
    }
   },
   "outputs": [
    {
     "name": "stdout",
     "output_type": "stream",
     "text": [
      "Edited (node):  Manager \n",
      "Edited (child):  SowingRule \n",
      "Edited parameters:  StartDate \n",
      "New values:  3-nov \n",
      "Created:  ./Soybean.apsimx \n",
      "Edited (node):  Manager \n",
      "Edited (child):  SowingRule \n",
      "Edited parameters:  EndDate \n",
      "New values:  5-nov \n",
      "Created:  ./Soybean.apsimx \n"
     ]
    }
   ],
   "source": [
    "# Edit Manager => SowingRule => StartDate\n",
    "edit_apsimx(\n",
    "    file = SIM_NAME, wrt.dir = \".\", overwrite = T,\n",
    "    node = \"Manager\", manager.child = \"SowingRule\", parm = \"StartDate\", \n",
    "    value = \"3-nov\"\n",
    ")\n",
    "\n",
    "# Edit Manager => SowingRule => EndDate\n",
    "edit_apsimx(\n",
    "    file = SIM_NAME, wrt.dir = \".\", overwrite = T,\n",
    "    node = \"Manager\", manager.child = \"SowingRule\", parm = \"EndDate\", \n",
    "    value = \"5-nov\"\n",
    ")"
   ]
  },
  {
   "cell_type": "markdown",
   "metadata": {},
   "source": [
    "Now we can check is the edit was successful:"
   ]
  },
  {
   "cell_type": "code",
   "execution_count": 26,
   "metadata": {
    "vscode": {
     "languageId": "r"
    }
   },
   "outputs": [
    {
     "name": "stdout",
     "output_type": "stream",
     "text": [
      "Management Scripts:  SowingFertiliser Harvesting SowingRule \n",
      "\n",
      "Name:  SowingRule \n",
      "\n",
      "\n",
      "|parm         |value |\n",
      "|:------------|:-----|\n",
      "|StartDate    |3-nov |\n",
      "|EndDate      |5-nov |\n",
      "|MinESW       |100   |\n",
      "|MinRain      |25    |\n",
      "|RainDays     |7     |\n",
      "|CultivarName |Davis |\n",
      "|SowingDepth  |50    |\n",
      "|RowSpacing   |750   |\n",
      "|Population   |38    |\n",
      "\n"
     ]
    }
   ],
   "source": [
    "inspect_apsimx(\n",
    "    file = SIM_NAME, \n",
    "    node = \"Manager\", \n",
    "    parm = list(\"SowingRule\", NA)\n",
    ")"
   ]
  },
  {
   "cell_type": "markdown",
   "metadata": {},
   "source": [
    "### Edit Simulation Clock\n",
    "\n",
    "Todo do this, we will again:\n",
    "- Inspect node\n",
    "- Edit node\n",
    "- Inspect again to check if the parameter was edited"
   ]
  },
  {
   "cell_type": "code",
   "execution_count": 27,
   "metadata": {
    "vscode": {
     "languageId": "r"
    }
   },
   "outputs": [
    {
     "name": "stdout",
     "output_type": "stream",
     "text": [
      "Start: 2015-04-01T00:00:00  \n",
      "End: 2016-04-01T00:00:00  \n"
     ]
    }
   ],
   "source": [
    "inspect_apsimx(\n",
    "    file = SIM_NAME, \n",
    "    node = \"Clock\"\n",
    ")"
   ]
  },
  {
   "cell_type": "code",
   "execution_count": 28,
   "metadata": {
    "vscode": {
     "languageId": "r"
    }
   },
   "outputs": [
    {
     "name": "stdout",
     "output_type": "stream",
     "text": [
      "Edited (node):  Clock \n",
      "Edited (child):  none \n",
      "Edited parameters:  Start \n",
      "New values:  2015-04-01T00:00:00  \n",
      "Created:  ./Soybean.apsimx \n",
      "Edited (node):  Clock \n",
      "Edited (child):  none \n",
      "Edited parameters:  End \n",
      "New values:  2016-04-01T00:00:00  \n",
      "Created:  ./Soybean.apsimx \n"
     ]
    }
   ],
   "source": [
    "edit_apsimx(\n",
    "    file = SIM_NAME, wrt.dir = \".\", overwrite = T,\n",
    "    node = \"Clock\", parm = \"Start\", \n",
    "    value = \"2015-04-01T00:00:00 \"\n",
    ")\n",
    "\n",
    "edit_apsimx(\n",
    "    file = SIM_NAME, wrt.dir = \".\", overwrite = T,\n",
    "    node = \"Clock\", parm = \"End\", \n",
    "    value = \"2016-04-01T00:00:00 \"\n",
    ")"
   ]
  },
  {
   "cell_type": "code",
   "execution_count": 29,
   "metadata": {
    "vscode": {
     "languageId": "r"
    }
   },
   "outputs": [
    {
     "name": "stdout",
     "output_type": "stream",
     "text": [
      "Start: 2015-04-01T00:00:00  \n",
      "End: 2016-04-01T00:00:00  \n"
     ]
    }
   ],
   "source": [
    "inspect_apsimx(\n",
    "    file = SIM_NAME, \n",
    "    node = \"Clock\"\n",
    ")"
   ]
  },
  {
   "cell_type": "markdown",
   "metadata": {},
   "source": [
    "### Edit Report"
   ]
  },
  {
   "cell_type": "code",
   "execution_count": 30,
   "metadata": {},
   "outputs": [
    {
     "name": "stdout",
     "output_type": "stream",
     "text": [
      "\n",
      "\n",
      "|EventNames           |\n",
      "|:--------------------|\n",
      "|[Soybean].Harvesting |\n",
      "|[Clock].DoReport     |\n"
     ]
    }
   ],
   "source": [
    "inspect_apsimx(\n",
    "    file = SIM_NAME, \n",
    "    node = \"Report\",\n",
    "    parm = (\"EventNames\")                     \n",
    ")"
   ]
  },
  {
   "cell_type": "code",
   "execution_count": 31,
   "metadata": {},
   "outputs": [
    {
     "name": "stdout",
     "output_type": "stream",
     "text": [
      "Edited (node):  Report \n",
      "Edited (child):  none \n",
      "Edited parameters:  EventNames \n",
      "New values:  [Clock].DoReport \n",
      "Created:  ./Soybean.apsimx \n"
     ]
    }
   ],
   "source": [
    "# [Clock].DoReport\n",
    "\n",
    "edit_apsimx(\n",
    "    file = SIM_NAME, wrt.dir = \".\", overwrite = T,\n",
    "    node = \"Report\", parm = \"EventNames\", \n",
    "    value = \"[Clock].DoReport\"\n",
    ")"
   ]
  },
  {
   "cell_type": "code",
   "execution_count": 32,
   "metadata": {},
   "outputs": [
    {
     "name": "stdout",
     "output_type": "stream",
     "text": [
      "\n",
      "\n",
      "|EventNames           |\n",
      "|:--------------------|\n",
      "|[Soybean].Harvesting |\n",
      "|[Clock].DoReport     |\n",
      "|[Clock].DoReport     |\n"
     ]
    }
   ],
   "source": [
    "inspect_apsimx(\n",
    "    file = SIM_NAME, \n",
    "    node = \"Report\",\n",
    "    parm = (\"EventNames\")                     \n",
    ")"
   ]
  },
  {
   "cell_type": "markdown",
   "metadata": {},
   "source": [
    "<hr>\n",
    "\n",
    "# Run Simulation"
   ]
  },
  {
   "cell_type": "markdown",
   "metadata": {},
   "source": [
    "Now that we have the .apsimx file configured and we set the simulation to use our .met file, we can run the simulation and check the results."
   ]
  },
  {
   "cell_type": "markdown",
   "metadata": {},
   "source": [
    "### Configure APSIM executable path\n",
    "\n",
    "<div class=\"alert\">\n",
    "  <span class=\"closebtn\" onclick=\"this.parentElement.style.display='none';\">&#9888;</span>\n",
    "   This executable is the APSIM binary file used to run simulations in command line. This executable file is also used by APSIM NG interface to run simulations.\n",
    "\n",
    "   IMPORTANT: The APSIM executable path is not the APSIM NG .exe file.\n",
    "\n",
    "   To find this executable file, please locate the bin folder inside your APSIM installation folder:\n",
    "   - **Windows:** Usually inside <i>C:\\\\APSIMX</i>.\n",
    "   - **Linux:** Usually inside <i>/usr/local/lib/apsim/2023.7.7283.0/</i>.\n",
    "</div>"
   ]
  },
  {
   "cell_type": "code",
   "execution_count": 33,
   "metadata": {
    "vscode": {
     "languageId": "r"
    }
   },
   "outputs": [],
   "source": [
    "apsimx_options(exe.path = \"C:\\\\APSIMX\\\\APSIM2023.7.7285.0\\\\bin\\\\Models.exe\")"
   ]
  },
  {
   "cell_type": "markdown",
   "metadata": {},
   "source": [
    "### Run Simulation"
   ]
  },
  {
   "cell_type": "code",
   "execution_count": 34,
   "metadata": {
    "vscode": {
     "languageId": "r"
    }
   },
   "outputs": [
    {
     "data": {
      "text/plain": [
       "  CheckpointID  SimulationID     Zone           Clock.Today       \n",
       " Min.   :1     Min.   :1     Length:734         Length:734        \n",
       " 1st Qu.:1     1st Qu.:1     Class :character   Class :character  \n",
       " Median :1     Median :1     Mode  :character   Mode  :character  \n",
       " Mean   :1     Mean   :1                                          \n",
       " 3rd Qu.:1     3rd Qu.:1                                          \n",
       " Max.   :1     Max.   :1                                          \n",
       " Soybean.Phenology.Stage Soybean.Phenology.CurrentStageName\n",
       " Min.   :1               Length:734                        \n",
       " 1st Qu.:1               Class :character                  \n",
       " Median :1               Mode  :character                  \n",
       " Mean   :1                                                 \n",
       " 3rd Qu.:1                                                 \n",
       " Max.   :1                                                 \n",
       " Soybean.AboveGround.Wt Soybean.AboveGround.N     Yield   Soybean.Grain.NConc\n",
       " Min.   :0              Min.   :0             Min.   :0   Min.   :0          \n",
       " 1st Qu.:0              1st Qu.:0             1st Qu.:0   1st Qu.:0          \n",
       " Median :0              Median :0             Median :0   Median :0          \n",
       " Mean   :0              Mean   :0             Mean   :0   Mean   :0          \n",
       " 3rd Qu.:0              3rd Qu.:0             3rd Qu.:0   3rd Qu.:0          \n",
       " Max.   :0              Max.   :0             Max.   :0   Max.   :0          \n",
       " Soybean.Grain.Size Soybean.Grain.Number Soybean.Grain.Total.Wt\n",
       " Min.   :0          Min.   :0            Min.   :0             \n",
       " 1st Qu.:0          1st Qu.:0            1st Qu.:0             \n",
       " Median :0          Median :0            Median :0             \n",
       " Mean   :0          Mean   :0            Mean   :0             \n",
       " 3rd Qu.:0          3rd Qu.:0            3rd Qu.:0             \n",
       " Max.   :0          Max.   :0            Max.   :0             \n",
       " Soybean.Grain.Total.N Soybean.Total.Wt      Date            SimulationName    \n",
       " Min.   :0             Min.   :0        Min.   :2015-04-01   Length:734        \n",
       " 1st Qu.:0             1st Qu.:0        1st Qu.:2015-07-01   Class :character  \n",
       " Median :0             Median :0        Median :2015-10-01   Mode  :character  \n",
       " Mean   :0             Mean   :0        Mean   :2015-10-01                     \n",
       " 3rd Qu.:0             3rd Qu.:0        3rd Qu.:2015-12-31                     \n",
       " Max.   :0             Max.   :0        Max.   :2016-04-01                     "
      ]
     },
     "metadata": {},
     "output_type": "display_data"
    }
   ],
   "source": [
    "apsim_results <- apsimx(\n",
    "    file = SIM_NAME\n",
    ")\n",
    "\n",
    "summary(apsim_results)"
   ]
  },
  {
   "cell_type": "markdown",
   "metadata": {},
   "source": [
    "<hr>\n",
    "\n",
    "# Plot Simulation Results"
   ]
  },
  {
   "cell_type": "code",
   "execution_count": 36,
   "metadata": {
    "vscode": {
     "languageId": "r"
    }
   },
   "outputs": [],
   "source": [
    "library(ggplot2)\n",
    "library(gridExtra)\n",
    "library(tidyverse)"
   ]
  },
  {
   "cell_type": "markdown",
   "metadata": {},
   "source": [
    "You can check below that the simulation results is in a dataframe format:"
   ]
  },
  {
   "cell_type": "code",
   "execution_count": 37,
   "metadata": {
    "vscode": {
     "languageId": "r"
    }
   },
   "outputs": [
    {
     "data": {
      "text/html": [
       "<table class=\"dataframe\">\n",
       "<caption>A data.frame: 6 × 17</caption>\n",
       "<thead>\n",
       "\t<tr><th></th><th scope=col>CheckpointID</th><th scope=col>SimulationID</th><th scope=col>Zone</th><th scope=col>Clock.Today</th><th scope=col>Soybean.Phenology.Stage</th><th scope=col>Soybean.Phenology.CurrentStageName</th><th scope=col>Soybean.AboveGround.Wt</th><th scope=col>Soybean.AboveGround.N</th><th scope=col>Yield</th><th scope=col>Soybean.Grain.NConc</th><th scope=col>Soybean.Grain.Size</th><th scope=col>Soybean.Grain.Number</th><th scope=col>Soybean.Grain.Total.Wt</th><th scope=col>Soybean.Grain.Total.N</th><th scope=col>Soybean.Total.Wt</th><th scope=col>Date</th><th scope=col>SimulationName</th></tr>\n",
       "\t<tr><th></th><th scope=col>&lt;int&gt;</th><th scope=col>&lt;int&gt;</th><th scope=col>&lt;chr&gt;</th><th scope=col>&lt;chr&gt;</th><th scope=col>&lt;dbl&gt;</th><th scope=col>&lt;chr&gt;</th><th scope=col>&lt;dbl&gt;</th><th scope=col>&lt;dbl&gt;</th><th scope=col>&lt;dbl&gt;</th><th scope=col>&lt;dbl&gt;</th><th scope=col>&lt;dbl&gt;</th><th scope=col>&lt;dbl&gt;</th><th scope=col>&lt;dbl&gt;</th><th scope=col>&lt;dbl&gt;</th><th scope=col>&lt;dbl&gt;</th><th scope=col>&lt;date&gt;</th><th scope=col>&lt;chr&gt;</th></tr>\n",
       "</thead>\n",
       "<tbody>\n",
       "\t<tr><th scope=row>1</th><td>1</td><td>1</td><td>paddock</td><td>2015-04-01 12:00:00</td><td>1</td><td></td><td>0</td><td>0</td><td>0</td><td>0</td><td>0</td><td>0</td><td>0</td><td>0</td><td>0</td><td>2015-04-01</td><td>Simulation</td></tr>\n",
       "\t<tr><th scope=row>2</th><td>1</td><td>1</td><td>paddock</td><td>2015-04-01 12:00:00</td><td>1</td><td></td><td>0</td><td>0</td><td>0</td><td>0</td><td>0</td><td>0</td><td>0</td><td>0</td><td>0</td><td>2015-04-01</td><td>Simulation</td></tr>\n",
       "\t<tr><th scope=row>3</th><td>1</td><td>1</td><td>paddock</td><td>2015-04-02 12:00:00</td><td>1</td><td></td><td>0</td><td>0</td><td>0</td><td>0</td><td>0</td><td>0</td><td>0</td><td>0</td><td>0</td><td>2015-04-02</td><td>Simulation</td></tr>\n",
       "\t<tr><th scope=row>4</th><td>1</td><td>1</td><td>paddock</td><td>2015-04-02 12:00:00</td><td>1</td><td></td><td>0</td><td>0</td><td>0</td><td>0</td><td>0</td><td>0</td><td>0</td><td>0</td><td>0</td><td>2015-04-02</td><td>Simulation</td></tr>\n",
       "\t<tr><th scope=row>5</th><td>1</td><td>1</td><td>paddock</td><td>2015-04-03 12:00:00</td><td>1</td><td></td><td>0</td><td>0</td><td>0</td><td>0</td><td>0</td><td>0</td><td>0</td><td>0</td><td>0</td><td>2015-04-03</td><td>Simulation</td></tr>\n",
       "\t<tr><th scope=row>6</th><td>1</td><td>1</td><td>paddock</td><td>2015-04-03 12:00:00</td><td>1</td><td></td><td>0</td><td>0</td><td>0</td><td>0</td><td>0</td><td>0</td><td>0</td><td>0</td><td>0</td><td>2015-04-03</td><td>Simulation</td></tr>\n",
       "</tbody>\n",
       "</table>\n"
      ],
      "text/latex": [
       "A data.frame: 6 × 17\n",
       "\\begin{tabular}{r|lllllllllllllllll}\n",
       "  & CheckpointID & SimulationID & Zone & Clock.Today & Soybean.Phenology.Stage & Soybean.Phenology.CurrentStageName & Soybean.AboveGround.Wt & Soybean.AboveGround.N & Yield & Soybean.Grain.NConc & Soybean.Grain.Size & Soybean.Grain.Number & Soybean.Grain.Total.Wt & Soybean.Grain.Total.N & Soybean.Total.Wt & Date & SimulationName\\\\\n",
       "  & <int> & <int> & <chr> & <chr> & <dbl> & <chr> & <dbl> & <dbl> & <dbl> & <dbl> & <dbl> & <dbl> & <dbl> & <dbl> & <dbl> & <date> & <chr>\\\\\n",
       "\\hline\n",
       "\t1 & 1 & 1 & paddock & 2015-04-01 12:00:00 & 1 &  & 0 & 0 & 0 & 0 & 0 & 0 & 0 & 0 & 0 & 2015-04-01 & Simulation\\\\\n",
       "\t2 & 1 & 1 & paddock & 2015-04-01 12:00:00 & 1 &  & 0 & 0 & 0 & 0 & 0 & 0 & 0 & 0 & 0 & 2015-04-01 & Simulation\\\\\n",
       "\t3 & 1 & 1 & paddock & 2015-04-02 12:00:00 & 1 &  & 0 & 0 & 0 & 0 & 0 & 0 & 0 & 0 & 0 & 2015-04-02 & Simulation\\\\\n",
       "\t4 & 1 & 1 & paddock & 2015-04-02 12:00:00 & 1 &  & 0 & 0 & 0 & 0 & 0 & 0 & 0 & 0 & 0 & 2015-04-02 & Simulation\\\\\n",
       "\t5 & 1 & 1 & paddock & 2015-04-03 12:00:00 & 1 &  & 0 & 0 & 0 & 0 & 0 & 0 & 0 & 0 & 0 & 2015-04-03 & Simulation\\\\\n",
       "\t6 & 1 & 1 & paddock & 2015-04-03 12:00:00 & 1 &  & 0 & 0 & 0 & 0 & 0 & 0 & 0 & 0 & 0 & 2015-04-03 & Simulation\\\\\n",
       "\\end{tabular}\n"
      ],
      "text/markdown": [
       "\n",
       "A data.frame: 6 × 17\n",
       "\n",
       "| <!--/--> | CheckpointID &lt;int&gt; | SimulationID &lt;int&gt; | Zone &lt;chr&gt; | Clock.Today &lt;chr&gt; | Soybean.Phenology.Stage &lt;dbl&gt; | Soybean.Phenology.CurrentStageName &lt;chr&gt; | Soybean.AboveGround.Wt &lt;dbl&gt; | Soybean.AboveGround.N &lt;dbl&gt; | Yield &lt;dbl&gt; | Soybean.Grain.NConc &lt;dbl&gt; | Soybean.Grain.Size &lt;dbl&gt; | Soybean.Grain.Number &lt;dbl&gt; | Soybean.Grain.Total.Wt &lt;dbl&gt; | Soybean.Grain.Total.N &lt;dbl&gt; | Soybean.Total.Wt &lt;dbl&gt; | Date &lt;date&gt; | SimulationName &lt;chr&gt; |\n",
       "|---|---|---|---|---|---|---|---|---|---|---|---|---|---|---|---|---|---|\n",
       "| 1 | 1 | 1 | paddock | 2015-04-01 12:00:00 | 1 | <!----> | 0 | 0 | 0 | 0 | 0 | 0 | 0 | 0 | 0 | 2015-04-01 | Simulation |\n",
       "| 2 | 1 | 1 | paddock | 2015-04-01 12:00:00 | 1 | <!----> | 0 | 0 | 0 | 0 | 0 | 0 | 0 | 0 | 0 | 2015-04-01 | Simulation |\n",
       "| 3 | 1 | 1 | paddock | 2015-04-02 12:00:00 | 1 | <!----> | 0 | 0 | 0 | 0 | 0 | 0 | 0 | 0 | 0 | 2015-04-02 | Simulation |\n",
       "| 4 | 1 | 1 | paddock | 2015-04-02 12:00:00 | 1 | <!----> | 0 | 0 | 0 | 0 | 0 | 0 | 0 | 0 | 0 | 2015-04-02 | Simulation |\n",
       "| 5 | 1 | 1 | paddock | 2015-04-03 12:00:00 | 1 | <!----> | 0 | 0 | 0 | 0 | 0 | 0 | 0 | 0 | 0 | 2015-04-03 | Simulation |\n",
       "| 6 | 1 | 1 | paddock | 2015-04-03 12:00:00 | 1 | <!----> | 0 | 0 | 0 | 0 | 0 | 0 | 0 | 0 | 0 | 2015-04-03 | Simulation |\n",
       "\n"
      ],
      "text/plain": [
       "  CheckpointID SimulationID Zone    Clock.Today         Soybean.Phenology.Stage\n",
       "1 1            1            paddock 2015-04-01 12:00:00 1                      \n",
       "2 1            1            paddock 2015-04-01 12:00:00 1                      \n",
       "3 1            1            paddock 2015-04-02 12:00:00 1                      \n",
       "4 1            1            paddock 2015-04-02 12:00:00 1                      \n",
       "5 1            1            paddock 2015-04-03 12:00:00 1                      \n",
       "6 1            1            paddock 2015-04-03 12:00:00 1                      \n",
       "  Soybean.Phenology.CurrentStageName Soybean.AboveGround.Wt\n",
       "1                                    0                     \n",
       "2                                    0                     \n",
       "3                                    0                     \n",
       "4                                    0                     \n",
       "5                                    0                     \n",
       "6                                    0                     \n",
       "  Soybean.AboveGround.N Yield Soybean.Grain.NConc Soybean.Grain.Size\n",
       "1 0                     0     0                   0                 \n",
       "2 0                     0     0                   0                 \n",
       "3 0                     0     0                   0                 \n",
       "4 0                     0     0                   0                 \n",
       "5 0                     0     0                   0                 \n",
       "6 0                     0     0                   0                 \n",
       "  Soybean.Grain.Number Soybean.Grain.Total.Wt Soybean.Grain.Total.N\n",
       "1 0                    0                      0                    \n",
       "2 0                    0                      0                    \n",
       "3 0                    0                      0                    \n",
       "4 0                    0                      0                    \n",
       "5 0                    0                      0                    \n",
       "6 0                    0                      0                    \n",
       "  Soybean.Total.Wt Date       SimulationName\n",
       "1 0                2015-04-01 Simulation    \n",
       "2 0                2015-04-01 Simulation    \n",
       "3 0                2015-04-02 Simulation    \n",
       "4 0                2015-04-02 Simulation    \n",
       "5 0                2015-04-03 Simulation    \n",
       "6 0                2015-04-03 Simulation    "
      ]
     },
     "metadata": {},
     "output_type": "display_data"
    }
   ],
   "source": [
    "head(apsim_results)"
   ]
  },
  {
   "cell_type": "markdown",
   "metadata": {},
   "source": [
    "In the example below, we will plot **Soybean.AboveGround.Wt** and **Yield**:"
   ]
  },
  {
   "cell_type": "code",
   "execution_count": 39,
   "metadata": {
    "scrolled": false,
    "vscode": {
     "languageId": "r"
    }
   },
   "outputs": [
    {
     "data": {
      "image/png": "[encoded data removed]",
      "text/plain": [
       "plot without title"
      ]
     },
     "metadata": {
      "image/png": {
       "height": 300,
       "width": 480
      }
     },
     "output_type": "display_data"
    }
   ],
   "source": [
    "options(repr.plot.width=8, repr.plot.height=5)\n",
    "\n",
    "ggplot(apsim_results) +\n",
    "#   geom_line(aes(x = as.Date(Clock.Today), y = Maize.AboveGround.Wt)) +\n",
    "  geom_point(aes(x = as.Date(Clock.Today), y = Soybean.AboveGround.Wt)) +\n",
    "  theme_bw() +\n",
    "  labs(x = \"Date\", y = \"AboveGround Wt\") + \n",
    "  theme(text = element_text(size = 18))\n",
    "\n",
    "# ggplot(apsim_results) +\n",
    "#   geom_line(aes(x = as.Date(Clock.Today), y = Yield)) +\n",
    "# #   geom_point(aes(x = as.Date(Clock.Today), y = Yield)) +\n",
    "#   theme_bw() +\n",
    "#   labs(x = \"Date\", y = \"Yield\") + \n",
    "#   theme(text = element_text(size = 18))"
   ]
  },
  {
   "cell_type": "markdown",
   "metadata": {},
   "source": [
    "We can also use **dplyr** to convert this dataframe to a tibble format and plot all data using **ggplot**:"
   ]
  },
  {
   "cell_type": "code",
   "execution_count": 40,
   "metadata": {
    "vscode": {
     "languageId": "r"
    }
   },
   "outputs": [
    {
     "data": {
      "text/html": [
       "<table class=\"dataframe\">\n",
       "<caption>A tibble: 6 × 3</caption>\n",
       "<thead>\n",
       "\t<tr><th scope=col>Date</th><th scope=col>variable</th><th scope=col>value</th></tr>\n",
       "\t<tr><th scope=col>&lt;date&gt;</th><th scope=col>&lt;chr&gt;</th><th scope=col>&lt;dbl&gt;</th></tr>\n",
       "</thead>\n",
       "<tbody>\n",
       "\t<tr><td>2015-04-01</td><td>Soybean.AboveGround.N </td><td>0</td></tr>\n",
       "\t<tr><td>2015-04-01</td><td>Soybean.AboveGround.Wt</td><td>0</td></tr>\n",
       "\t<tr><td>2015-04-01</td><td>Soybean.Grain.NConc   </td><td>0</td></tr>\n",
       "\t<tr><td>2015-04-01</td><td>Soybean.Grain.Total.N </td><td>0</td></tr>\n",
       "\t<tr><td>2015-04-01</td><td>Soybean.Grain.Total.Wt</td><td>0</td></tr>\n",
       "\t<tr><td>2015-04-01</td><td>Soybean.Total.Wt      </td><td>0</td></tr>\n",
       "</tbody>\n",
       "</table>\n"
      ],
      "text/latex": [
       "A tibble: 6 × 3\n",
       "\\begin{tabular}{lll}\n",
       " Date & variable & value\\\\\n",
       " <date> & <chr> & <dbl>\\\\\n",
       "\\hline\n",
       "\t 2015-04-01 & Soybean.AboveGround.N  & 0\\\\\n",
       "\t 2015-04-01 & Soybean.AboveGround.Wt & 0\\\\\n",
       "\t 2015-04-01 & Soybean.Grain.NConc    & 0\\\\\n",
       "\t 2015-04-01 & Soybean.Grain.Total.N  & 0\\\\\n",
       "\t 2015-04-01 & Soybean.Grain.Total.Wt & 0\\\\\n",
       "\t 2015-04-01 & Soybean.Total.Wt       & 0\\\\\n",
       "\\end{tabular}\n"
      ],
      "text/markdown": [
       "\n",
       "A tibble: 6 × 3\n",
       "\n",
       "| Date &lt;date&gt; | variable &lt;chr&gt; | value &lt;dbl&gt; |\n",
       "|---|---|---|\n",
       "| 2015-04-01 | Soybean.AboveGround.N  | 0 |\n",
       "| 2015-04-01 | Soybean.AboveGround.Wt | 0 |\n",
       "| 2015-04-01 | Soybean.Grain.NConc    | 0 |\n",
       "| 2015-04-01 | Soybean.Grain.Total.N  | 0 |\n",
       "| 2015-04-01 | Soybean.Grain.Total.Wt | 0 |\n",
       "| 2015-04-01 | Soybean.Total.Wt       | 0 |\n",
       "\n"
      ],
      "text/plain": [
       "  Date       variable               value\n",
       "1 2015-04-01 Soybean.AboveGround.N  0    \n",
       "2 2015-04-01 Soybean.AboveGround.Wt 0    \n",
       "3 2015-04-01 Soybean.Grain.NConc    0    \n",
       "4 2015-04-01 Soybean.Grain.Total.N  0    \n",
       "5 2015-04-01 Soybean.Grain.Total.Wt 0    \n",
       "6 2015-04-01 Soybean.Total.Wt       0    "
      ]
     },
     "metadata": {},
     "output_type": "display_data"
    },
    {
     "data": {
      "image/png": "[encoded data removed]",
      "text/plain": [
       "plot without title"
      ]
     },
     "metadata": {
      "image/png": {
       "height": 600,
       "width": 900
      }
     },
     "output_type": "display_data"
    }
   ],
   "source": [
    "apsim_results_tibble <- apsim_results %>%\n",
    "    select(Date, Soybean.AboveGround.N, Soybean.AboveGround.Wt, Soybean.Grain.NConc, Soybean.Grain.Total.N, Soybean.Grain.Total.Wt, Soybean.Total.Wt, Yield) %>%\n",
    "    pivot_longer(cols = 2:ncol(.), names_to = \"variable\", values_to = \"value\")\n",
    "\n",
    "head(apsim_results_tibble)\n",
    "\n",
    "\n",
    "options(repr.plot.width=15, repr.plot.height=10)\n",
    "\n",
    "ggplot(apsim_results_tibble) +\n",
    "  geom_line(aes(x = Date, y = value)) +\n",
    "  theme_bw() +\n",
    "  facet_wrap(variable ~ ., scales=\"free\") + \n",
    "  labs(x = \"Date\", y = \"Value\") + \n",
    "  theme(text = element_text(size = 20))"
   ]
  },
  {
   "cell_type": "code",
   "execution_count": null,
   "metadata": {},
   "outputs": [],
   "source": []
  }
 ],
 "metadata": {
  "kernelspec": {
   "display_name": "R",
   "language": "R",
   "name": "ir"
  },
  "language_info": {
   "codemirror_mode": "r",
   "file_extension": ".r",
   "mimetype": "text/x-r-source",
   "name": "R",
   "pygments_lexer": "r",
   "version": "4.2.2"
  }
 },
 "nbformat": 4,
 "nbformat_minor": 2
}
